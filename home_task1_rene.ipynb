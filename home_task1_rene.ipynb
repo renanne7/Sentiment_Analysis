{
 "cells": [
  {
   "cell_type": "markdown",
   "metadata": {},
   "source": [
    "# Home Task 1\n",
    "\n",
    "### ~ Rene Salih"
   ]
  },
  {
   "cell_type": "code",
   "execution_count": 185,
   "metadata": {},
   "outputs": [],
   "source": [
    "# Windows 10 used to write and test the code.\n",
    "import re\n",
    "import os\n",
    "import numpy as np\n",
    "import pandas as pd\n",
    "from pathlib import Path # To ensure path compatibility with unix systems\n",
    "from collections import Counter\n",
    "import matplotlib.pyplot as plt\n",
    "from sklearn.metrics import accuracy_score, precision_score, recall_score, f1_score\n",
    "import pyprind # Python Progress Indicator module provides a progress bar and a percentage indicator object that let you \n",
    "# track the progress of a loop structure or other iterative computation\n",
    "\n",
    "# fixing random seed for reproducibility\n",
    "np.random.seed(123)"
   ]
  },
  {
   "cell_type": "code",
   "execution_count": 186,
   "metadata": {},
   "outputs": [
    {
     "name": "stderr",
     "output_type": "stream",
     "text": [
      "0% [##############################] 100% | ETA: 00:00:00\n",
      "Total time elapsed: 00:06:40\n"
     ]
    }
   ],
   "source": [
    "basepath = r'C:\\Users\\Rene\\OneDrive\\MSc Data Analytics\\Natural Language Processing\\aclImdb\\\\' # replace to the path with the appropriate one\n",
    "\n",
    "labels = {'pos': 1, 'neg': 0}\n",
    "pbar = pyprind.ProgBar(50000)\n",
    "movie_reviews_df = pd.DataFrame()\n",
    "for s in ('test', 'train'):\n",
    "    for l in ('pos', 'neg'):\n",
    "        path = os.path.join(basepath, s, l)\n",
    "        for file in os.listdir(path):\n",
    "            with open(os.path.join(path, file), 'r', encoding='utf-8') as infile:\n",
    "                txt = infile.read()\n",
    "            movie_reviews_df = movie_reviews_df.append([[txt, labels[l]]], ignore_index=True) \n",
    "            pbar.update()\n",
    "\n",
    "movie_reviews_df.columns = [\"Review\", \"Sentiment\"]"
   ]
  },
  {
   "cell_type": "code",
   "execution_count": 187,
   "metadata": {},
   "outputs": [],
   "source": [
    "movie_reviews_df = movie_reviews_df.reindex(np.random.permutation(movie_reviews_df.index))\n",
    "movie_reviews_df.to_csv('movie_data.csv', index=False, encoding='utf-8')\n",
    "\n",
    "movie_reviews_df = pd.read_csv('movie_data.csv', encoding='utf-8')\n",
    "\n",
    "pos_review_df = movie_reviews_df.loc[movie_reviews_df['Sentiment'] == 1]  # 25000\n",
    "neg_review_df = movie_reviews_df.loc[movie_reviews_df['Sentiment'] == 0]  # 25000\n",
    "\n",
    "# Split into 70%, 10% and 20% for training, validation and testing respectively\n",
    "pos_review_tr, pos_review_dev, pos_review_ts = np.split(pos_review_df.sample(frac=1, random_state=42), \n",
    "                                                        [int(.7*len(pos_review_df)), int(.8*len(pos_review_df))])\n",
    "\n",
    "neg_review_tr, neg_review_dev, neg_review_ts = np.split(neg_review_df.sample(frac=1, random_state=42), \n",
    "                                                        [int(.7*len(neg_review_df)), int(.8*len(neg_review_df))])\n",
    "\n",
    "# Create train, dev and test sets of both positive and negative reviews\n",
    "data_tr = pos_review_tr.append(neg_review_tr, ignore_index=True) # 35000\n",
    "data_dev = pos_review_dev.append(neg_review_dev, ignore_index=True) # 2500\n",
    "data_ts = pos_review_ts.append(neg_review_ts, ignore_index=True) # 5000\n",
    "\n",
    "# Shuffle all the dataframes\n",
    "data_tr = data_tr.sample(frac=1).reset_index(drop=True)\n",
    "data_dev = data_dev.sample(frac=1).reset_index(drop=True)\n",
    "data_ts = data_ts.sample(frac=1).reset_index(drop=True)"
   ]
  },
  {
   "cell_type": "code",
   "execution_count": 188,
   "metadata": {},
   "outputs": [
    {
     "data": {
      "text/html": [
       "<div>\n",
       "<style scoped>\n",
       "    .dataframe tbody tr th:only-of-type {\n",
       "        vertical-align: middle;\n",
       "    }\n",
       "\n",
       "    .dataframe tbody tr th {\n",
       "        vertical-align: top;\n",
       "    }\n",
       "\n",
       "    .dataframe thead th {\n",
       "        text-align: right;\n",
       "    }\n",
       "</style>\n",
       "<table border=\"1\" class=\"dataframe\">\n",
       "  <thead>\n",
       "    <tr style=\"text-align: right;\">\n",
       "      <th></th>\n",
       "      <th>Review</th>\n",
       "      <th>Sentiment</th>\n",
       "    </tr>\n",
       "  </thead>\n",
       "  <tbody>\n",
       "    <tr>\n",
       "      <th>0</th>\n",
       "      <td>I really enjoyed this movie as a young kid. At...</td>\n",
       "      <td>1</td>\n",
       "    </tr>\n",
       "    <tr>\n",
       "      <th>1</th>\n",
       "      <td>I really love anything done by Savage Steve Ho...</td>\n",
       "      <td>1</td>\n",
       "    </tr>\n",
       "    <tr>\n",
       "      <th>2</th>\n",
       "      <td>I'm not sure what version of the film I saw, b...</td>\n",
       "      <td>1</td>\n",
       "    </tr>\n",
       "    <tr>\n",
       "      <th>3</th>\n",
       "      <td>jeez, when i heard this movie was a NATIONAL L...</td>\n",
       "      <td>0</td>\n",
       "    </tr>\n",
       "    <tr>\n",
       "      <th>4</th>\n",
       "      <td>I discovered this film after reading the book ...</td>\n",
       "      <td>1</td>\n",
       "    </tr>\n",
       "  </tbody>\n",
       "</table>\n",
       "</div>"
      ],
      "text/plain": [
       "                                              Review  Sentiment\n",
       "0  I really enjoyed this movie as a young kid. At...          1\n",
       "1  I really love anything done by Savage Steve Ho...          1\n",
       "2  I'm not sure what version of the film I saw, b...          1\n",
       "3  jeez, when i heard this movie was a NATIONAL L...          0\n",
       "4  I discovered this film after reading the book ...          1"
      ]
     },
     "execution_count": 188,
     "metadata": {},
     "output_type": "execute_result"
    }
   ],
   "source": [
    "data_tr.head()"
   ]
  },
  {
   "cell_type": "markdown",
   "metadata": {},
   "source": [
    "### Load Raw texts and labels into arrays"
   ]
  },
  {
   "cell_type": "code",
   "execution_count": 189,
   "metadata": {},
   "outputs": [],
   "source": [
    "labels_tr = data_tr[\"Sentiment\"].to_numpy()\n",
    "review_tr = data_tr[\"Review\"].tolist()\n",
    "\n",
    "labels_ts = data_ts[\"Sentiment\"].to_numpy()\n",
    "review_ts = data_ts[\"Review\"].tolist()\n",
    "\n",
    "labels_dev = data_dev[\"Sentiment\"].to_numpy()\n",
    "review_dev = data_dev[\"Review\"].tolist()"
   ]
  },
  {
   "cell_type": "markdown",
   "metadata": {},
   "source": [
    "### Bag-of-Words Representation \n",
    "\n",
    "### N-gram extraction from a document"
   ]
  },
  {
   "cell_type": "code",
   "execution_count": 190,
   "metadata": {},
   "outputs": [],
   "source": [
    "stop_words = ['a','in','on','at','and','or', \n",
    "              'to', 'the', 'of', 'an', 'by', \n",
    "              'as', 'is', 'was', 'were', 'been', 'be', \n",
    "              'are','for', 'this', 'that', 'these', 'those', 'you', 'i',\n",
    "             'it', 'he', 'she', 'we', 'they', 'will', 'have', 'has',\n",
    "              'do', 'did', 'can', 'could', 'who', 'which', 'what', \n",
    "             'his', 'her', 'they', 'them', 'from', 'with', 'its']"
   ]
  },
  {
   "cell_type": "code",
   "execution_count": 191,
   "metadata": {},
   "outputs": [],
   "source": [
    "def extract_ngrams(x_raw, ngram_range=(1,3), token_pattern=r'\\b[A-Za-z][A-Za-z]+\\b', stop_words=[], vocab=set()):\n",
    "    \n",
    "    tuples = []\n",
    "    \n",
    "    # remove all non-words from the string\n",
    "    words = re.compile(token_pattern)\n",
    "    words_extract = words.findall(x_raw)\n",
    "    \n",
    "    # set all words to lower case (this was implemented due to the second task having somewhat unprocessed text)\n",
    "    words_extract = [x.lower() for x in words_extract]\n",
    "    \n",
    "    # remove all words that are stop words\n",
    "    words_extract = [n for n in words_extract if n not in stop_words]\n",
    "    \n",
    "    # construct ngrams between ngram_range[0] and ngram_range[1]\n",
    "    for i in range(ngram_range[0], ngram_range[1]+1):\n",
    "        if(i < 2): continue\n",
    "        \n",
    "        # find n-grams of length i\n",
    "        for n in range(len(words_extract)+1):\n",
    "            \n",
    "            # check theoretical tuple is valid ie n+i < len(x_raw) \n",
    "            if(n+i >= len(words_extract)+1): break\n",
    "\n",
    "            # take slice of n:n+i and turn into tuple, add tuple to array for later concaternation\n",
    "            tuples.append(tuple(words_extract[n:n+i]))\n",
    "\n",
    "    words_extract +=  tuples\n",
    "    \n",
    "    # remove all words not in vocab unless  vocab is default then ignore vocab\n",
    "    if (vocab != set()):\n",
    "        words_extract = [n for n in words_extract if n in vocab]\n",
    "            \n",
    "    return words_extract"
   ]
  },
  {
   "cell_type": "markdown",
   "metadata": {},
   "source": [
    "### Create a vocabulary of n-grams"
   ]
  },
  {
   "cell_type": "code",
   "execution_count": 192,
   "metadata": {},
   "outputs": [],
   "source": [
    "def get_vocab(X_raw, ngram_range=(1,3), token_pattern=r'\\b[A-Za-z][A-Za-z]+\\b', min_df=0, keep_topN=0, stop_words=[]):\n",
    "    \n",
    "    vocab = set()\n",
    "    ngram_counts = Counter()     # term frequencies\n",
    "    df_counter = Counter()       # document frequencies\n",
    "\n",
    "    # loop through each element in the array X_raw\n",
    "    for i in range(len(X_raw)):\n",
    "\n",
    "        # extract the ngrams from the text\n",
    "        extracted_words = extract_ngrams(X_raw[i], ngram_range, token_pattern, stop_words)\n",
    "        \n",
    "        # update the df counter (transform to set to ensure you only count one of each word per doc)\n",
    "        df_counter.update(set(extracted_words))\n",
    "        \n",
    "        # update the tf counter\n",
    "        ngram_counts.update(extracted_words)\n",
    "            \n",
    "    # ensure that topN_cutoff is the highest threshold\n",
    "    if (keep_topN < min_df):\n",
    "        keep_topN = min_df\n",
    "    \n",
    "    # keep the top 'keep_topN' df's\n",
    "    df_counter = Counter(dict(df_counter.most_common(keep_topN)))\n",
    "     \n",
    "    # keep the top 'keep_topN' tf's\n",
    "    for word in list(ngram_counts):\n",
    "        if word not in df_counter:\n",
    "            del ngram_counts[word]\n",
    "    \n",
    "    # make a list of the vocabulary\n",
    "    vocab, _ = map(set, zip(*df_counter.most_common(keep_topN)))\n",
    "                              \n",
    "    return vocab, df_counter, ngram_counts"
   ]
  },
  {
   "cell_type": "code",
   "execution_count": 193,
   "metadata": {},
   "outputs": [
    {
     "name": "stdout",
     "output_type": "stream",
     "text": [
      "[('but', 24984), ('movie', 21370), ('not', 20806), ('br', 20445), (('br', 'br'), 20443), ('one', 19919), ('film', 19401), ('all', 18196), ('so', 16322), ('like', 16270)]\n"
     ]
    }
   ],
   "source": [
    "vocab, df, ngram_counts = get_vocab(review_tr, ngram_range=(1,3), keep_topN=5000, stop_words=stop_words)\n",
    "print(df.most_common()[:10])"
   ]
  },
  {
   "cell_type": "code",
   "execution_count": 194,
   "metadata": {},
   "outputs": [],
   "source": [
    "def corpus_to_ngram(X_raw, vocab, ngram_range=(1,3), token_pattern=r'\\b[A-Za-z][A-Za-z]+\\b'):\n",
    "    \n",
    "    # Define the return object\n",
    "    X_ngram = []\n",
    "    \n",
    "    # turns a list of documents into a list of documents turned into ngrams\n",
    "    \n",
    "    # loop through each element in the list X_raw\n",
    "    for i in range(len(X_raw)):\n",
    "        \n",
    "        # extract the ngrams from the text\n",
    "        extracted_words = extract_ngrams(X_raw[i], ngram_range, token_pattern, [], vocab)\n",
    "        \n",
    "        # append the ngrams to the list\n",
    "        X_ngram.append(extracted_words)\n",
    "    \n",
    "    return X_ngram"
   ]
  },
  {
   "cell_type": "code",
   "execution_count": 195,
   "metadata": {},
   "outputs": [],
   "source": [
    "tr_ngram = corpus_to_ngram(review_tr, vocab)\n",
    "ts_ngram = corpus_to_ngram(review_ts, vocab)\n",
    "dev_ngram = corpus_to_ngram(review_dev, vocab)"
   ]
  },
  {
   "cell_type": "markdown",
   "metadata": {},
   "source": [
    "### Vectorise documents "
   ]
  },
  {
   "cell_type": "code",
   "execution_count": 196,
   "metadata": {},
   "outputs": [],
   "source": [
    "def vectorise(X_ngram, vocab, df = None):\n",
    "    \n",
    "    X_vec = np.zeros((len(X_ngram), len(vocab)))\n",
    "    vocab = list(vocab)\n",
    "    \n",
    "    for i in range(len(X_ngram)):\n",
    "        \n",
    "        # a count fo each word in the document\n",
    "        doc = Counter(X_ngram[i][:])\n",
    "        \n",
    "        for j in range(len(vocab)):\n",
    "\n",
    "            if ((vocab[j] in X_ngram[i][:]) and df!= None ): \n",
    "                \n",
    "                # Create tfidf count\n",
    "                X_vec[i][j] = doc[vocab[j]] * np.log10(len(df) / df[vocab[j]])\n",
    "                \n",
    "            elif(vocab[j] in X_ngram[i][:]):\n",
    "                \n",
    "                # Create a normal count matrix\n",
    "                X_vec[i][j] = doc[vocab[j]]\n",
    "                \n",
    "    return X_vec"
   ]
  },
  {
   "cell_type": "code",
   "execution_count": 197,
   "metadata": {},
   "outputs": [],
   "source": [
    "tr_vec = vectorise(tr_ngram, vocab)\n",
    "ts_vec = vectorise(ts_ngram, vocab)\n",
    "dev_vec = vectorise(dev_ngram, vocab)"
   ]
  },
  {
   "cell_type": "code",
   "execution_count": null,
   "metadata": {},
   "outputs": [],
   "source": [
    "tr_vec_tfidf = vectorise(tr_ngram, vocab, df)\n",
    "ts_vec_tfidf = vectorise(ts_ngram, vocab, df)\n",
    "dev_vec_tfidf = vectorise(dev_ngram, vocab, df)"
   ]
  },
  {
   "cell_type": "markdown",
   "metadata": {},
   "source": [
    "### Binary Logistic Regression"
   ]
  },
  {
   "cell_type": "code",
   "execution_count": 199,
   "metadata": {},
   "outputs": [],
   "source": [
    "def sigmoid(z):\n",
    "    # This fn includes a replacement for very low values to avoid overflow errors\n",
    "    if (isinstance(z, np.ndarray)):\n",
    "        z[z < -600] = -600\n",
    "    elif (z < -600): z = -600\n",
    "    \n",
    "    return 1/(1 + np.exp(-z))"
   ]
  },
  {
   "cell_type": "code",
   "execution_count": 200,
   "metadata": {},
   "outputs": [
    {
     "data": {
      "text/plain": [
       "array([2.65039655e-261, 2.65039655e-261, 2.65039655e-261, ...,\n",
       "       2.65039655e-261, 2.65039655e-261, 2.65039655e-261])"
      ]
     },
     "execution_count": 200,
     "metadata": {},
     "output_type": "execute_result"
    }
   ],
   "source": [
    "def predict_proba(X, weights):\n",
    "\n",
    "    return sigmoid(np.dot(X, weights))\n",
    "\n",
    "weights = np.full(len(vocab), -1000)\n",
    "\n",
    "predict_proba(tr_vec, weights)"
   ]
  },
  {
   "cell_type": "code",
   "execution_count": 201,
   "metadata": {},
   "outputs": [
    {
     "data": {
      "text/plain": [
       "array([0., 0., 0., ..., 0., 0., 0.])"
      ]
     },
     "execution_count": 201,
     "metadata": {},
     "output_type": "execute_result"
    }
   ],
   "source": [
    "def predict_class(X, weights):\n",
    "    \n",
    "    preds_class = predict_proba(X, weights)\n",
    "    \n",
    "    preds_class[preds_class >= 0.5] = 1\n",
    "    preds_class[preds_class < 0.5] = 0\n",
    "    \n",
    "    return preds_class\n",
    "\n",
    "predict_class(tr_vec, weights)"
   ]
  },
  {
   "cell_type": "code",
   "execution_count": 202,
   "metadata": {},
   "outputs": [],
   "source": [
    "def binary_loss(X, Y, weights, alpha=0.00001):\n",
    "    \n",
    "    # using X and weights make an array of probability predictions\n",
    "    Y_prob = predict_proba(X, weights)\n",
    "    \n",
    "    # regularisation\n",
    "    reg = np.sum(np.square(weights))\n",
    "\n",
    "    # compare predictions to Y and calculate L_vec for every Y\n",
    "    l_vec = -Y * np.log(Y_prob) - (1 - Y) * np.log(1 - Y_prob) + alpha* reg\n",
    "    \n",
    "    return np.sum(l_vec)/ len(Y)"
   ]
  },
  {
   "cell_type": "markdown",
   "metadata": {},
   "source": [
    "### Implement Stochastic Gradient Descent to learn the weights of your sentiment classifier"
   ]
  },
  {
   "cell_type": "code",
   "execution_count": 203,
   "metadata": {},
   "outputs": [],
   "source": [
    "def SGD(X_tr, Y_tr, X_dev=[], Y_dev=[], loss=\"binary\", lr=0.1, alpha=0.00001, epochs=5, tolerance=0.0001, print_progress=True):\n",
    "    \n",
    "    tr_loss_history = []\n",
    "    val_loss_history = []\n",
    "    \n",
    "    # Initalise weights\n",
    "    w = np.zeros(X_tr.shape[1])\n",
    "    \n",
    "    for i in range(epochs):\n",
    "        \n",
    "        # randomise the order in the data every epoch\n",
    "        randomise = np.arange(len(Y_tr))\n",
    "        np.random.shuffle(randomise)\n",
    "        X_tr = X_tr[randomise]\n",
    "        Y_tr = Y_tr[randomise]\n",
    "        \n",
    "        # Over the dataset modify the weights\n",
    "        for j in range(len(Y_tr)):\n",
    "            \n",
    "            grad = (predict_proba(w, X_tr[j, :]) - Y_tr[j]) * X_tr[j, :] + 2 * alpha * w\n",
    "            w -= lr * grad\n",
    "\n",
    "        # Calculate the training and validation loss after each epoch\n",
    "        tr_loss_history.append(binary_loss(X_tr, Y_tr, w, alpha))\n",
    "        val_loss_history.append(binary_loss(X_dev, Y_dev, w, alpha))\n",
    "        \n",
    "        if(print_progress):\n",
    "            print(\"Epoch: %3i|\\t Training loss: %7f|\\t Validation loss: %7f\" \n",
    "                  % (i, tr_loss_history[i], val_loss_history[i]))\n",
    "        \n",
    "        # test to see if validation set is getting larger or the change is smaller than tolerance\n",
    "        if((i > 0) and (i != epochs - 1) and ((val_loss_history[i-1] - val_loss_history[i]) < tolerance)):\n",
    "            break\n",
    "        \n",
    "    return w, tr_loss_history, val_loss_history"
   ]
  },
  {
   "cell_type": "code",
   "execution_count": 155,
   "metadata": {},
   "outputs": [],
   "source": [
    "def hyper_param_learning(fn_SGD ,tr_vec, tr_labels, dev_vec, dev_labels, \n",
    "                         lr = (0.0001, 0.001), \n",
    "                         alpha = (0.001, 0.0001), \n",
    "                         n_tested = 10,\n",
    "                         print_progress = True):\n",
    "    \n",
    "    # This is a grid method that calculates the loss for each combination of parameter,\n",
    "    # it will test n_tested * n_tested number of combinations.\n",
    "    # But this is very slow and will not be run  in the notebook to demonstrate\n",
    "    # it works.\n",
    "      \n",
    "    # The different values of the parameters to be tested\n",
    "    lr_vars =  np.linspace(lr[0], lr[1], n_tested)\n",
    "    alpha_vars = np.linspace(alpha[0], alpha[1], n_tested)\n",
    "    \n",
    "    # initialise arrays to store the losses\n",
    "    best_tr_loss = best_dev_loss = tmp_dev = tmp_tr = []\n",
    "    \n",
    "    # Best Hyper Param Positions\n",
    "    best_alpha = best_lr = 0\n",
    "    \n",
    "    # initilise arrays to store the weights\n",
    "    best_w = temp_w = np.zeros(tr_vec.shape[1])\n",
    "    \n",
    "    # test all variations of the parameters\n",
    "    for i in range(n_tested):\n",
    "        for j in range(n_tested):\n",
    "            \n",
    "            temp_w, tmp_tr, tmp_dev = fn_SGD(tr_vec, tr_labels, \n",
    "                                             dev_vec, \n",
    "                                             dev_labels, \n",
    "                                             lr= lr_vars[i], \n",
    "                                             alpha= alpha_vars[j], \n",
    "                                             epochs=200,\n",
    "                                             print_progress=False)\n",
    "            if(print_progress):\n",
    "                print(\"Alpha: %7f|\\t Lr: %7f|\\t Epoch: %3i|\\t Val loss: %7f|\" \n",
    "                      % (alpha_vars[j], lr_vars[i], len(tmp_dev), tmp_dev[-1]))\n",
    "            \n",
    "            # test if we have the first variation tested and then if we have the best\n",
    "            if(i==j==0):\n",
    "                best_tr_loss = tmp_tr\n",
    "                best_dev_loss = tmp_dev\n",
    "                best_w = temp_w \n",
    "                continue\n",
    "            elif(tmp_dev[-1] < best_dev_loss[-1]):\n",
    "                print(\"New Best Found\")\n",
    "                best_tr_loss = tmp_tr\n",
    "                best_dev_loss = tmp_dev\n",
    "                best_w = temp_w\n",
    "                best_alpha = j\n",
    "                best_lr = i \n",
    "    \n",
    "    # Print the best results\n",
    "    if(print_progress):\n",
    "        print(\"-\" * 30)\n",
    "        print(\"Best Alpha: \", alpha_vars[best_alpha])\n",
    "        print(\"Best Lr: \", lr_vars[best_lr])\n",
    "        print(\"Lowest Loss: \", best_dev_loss[-1])\n",
    "        print(\"-\" * 30)\n",
    "        \n",
    "    # return the best w, training loss and dev loss\n",
    "    return best_w, best_tr_loss, best_dev_loss"
   ]
  },
  {
   "cell_type": "markdown",
   "metadata": {},
   "source": [
    "### Train and Evaluate Logistic Regression with Count vectors"
   ]
  },
  {
   "cell_type": "code",
   "execution_count": 204,
   "metadata": {},
   "outputs": [
    {
     "name": "stdout",
     "output_type": "stream",
     "text": [
      "Epoch:   0|\t Training loss: 0.522178|\t Validation loss: 0.529536\n",
      "Epoch:   1|\t Training loss: 0.469912|\t Validation loss: 0.479322\n",
      "Epoch:   2|\t Training loss: 0.440400|\t Validation loss: 0.450145\n",
      "Epoch:   3|\t Training loss: 0.421293|\t Validation loss: 0.432706\n",
      "Epoch:   4|\t Training loss: 0.406658|\t Validation loss: 0.418200\n",
      "Epoch:   5|\t Training loss: 0.396040|\t Validation loss: 0.408006\n",
      "Epoch:   6|\t Training loss: 0.386995|\t Validation loss: 0.399686\n",
      "Epoch:   7|\t Training loss: 0.378429|\t Validation loss: 0.392942\n",
      "Epoch:   8|\t Training loss: 0.371822|\t Validation loss: 0.387209\n",
      "Epoch:   9|\t Training loss: 0.366325|\t Validation loss: 0.381843\n",
      "Epoch:  10|\t Training loss: 0.361116|\t Validation loss: 0.377940\n",
      "Epoch:  11|\t Training loss: 0.356810|\t Validation loss: 0.374768\n",
      "Epoch:  12|\t Training loss: 0.353149|\t Validation loss: 0.372155\n",
      "Epoch:  13|\t Training loss: 0.349259|\t Validation loss: 0.368555\n",
      "Epoch:  14|\t Training loss: 0.345883|\t Validation loss: 0.365103\n",
      "Epoch:  15|\t Training loss: 0.342877|\t Validation loss: 0.362884\n",
      "Epoch:  16|\t Training loss: 0.340205|\t Validation loss: 0.360680\n",
      "Epoch:  17|\t Training loss: 0.338367|\t Validation loss: 0.360667\n"
     ]
    }
   ],
   "source": [
    "w_count, loss_tr_count, dev_loss_count = SGD(tr_vec, labels_tr, \n",
    "                                             dev_vec, \n",
    "                                             labels_dev, \n",
    "                                             lr=0.0001, \n",
    "                                             alpha=0.001, \n",
    "                                             epochs=200)"
   ]
  },
  {
   "cell_type": "code",
   "execution_count": 205,
   "metadata": {},
   "outputs": [
    {
     "data": {
      "image/png": "[encoded data removed]",
      "text/plain": [
       "<Figure size 576x360 with 1 Axes>"
      ]
     },
     "metadata": {
      "needs_background": "light"
     },
     "output_type": "display_data"
    }
   ],
   "source": [
    "def plot_training_loss(training_loss, validation_loss):\n",
    "    \n",
    "    plt.figure(figsize=(8, 5))\n",
    "    plt.plot(np.arange(len(training_loss)), training_loss, color='purple', linewidth=1.0, linestyle='-')\n",
    "    plt.plot(np.arange(len(validation_loss)), validation_loss, color='orange', linewidth=1.0, linestyle='-')\n",
    "    plt.legend(('Training Loss', 'Validation Loss'))\n",
    "    plt.xlabel(\"Epochs\")\n",
    "    plt.ylabel(\"Loss\")\n",
    "    plt.title(\"Training Monitoring\")\n",
    "    plt.show()\n",
    "\n",
    "plot_training_loss(loss_tr_count, dev_loss_count)"
   ]
  },
  {
   "cell_type": "code",
   "execution_count": 206,
   "metadata": {},
   "outputs": [
    {
     "name": "stdout",
     "output_type": "stream",
     "text": [
      "Accuracy: 0.873\n",
      "Precision: 0.874\n",
      "Recall: 0.871\n",
      "F1-Score: 0.872\n"
     ]
    }
   ],
   "source": [
    "def accuracy_score_s(Y_te,preds_te_count):\n",
    "\n",
    "    true_pos  = np.sum(np.logical_and(label_predict == 1, labels_ts == 1))\n",
    "    true_neg  = np.sum(np.logical_and(label_predict == 0, labels_ts == 0))\n",
    "    \n",
    "    accuracy = (true_pos + true_neg)/ len(labels_ts)\n",
    "    \n",
    "    return accuracy\n",
    "\n",
    "def precision_score_s(Y_te,preds_te_count):\n",
    "\n",
    "    true_pos  = np.sum(np.logical_and(label_predict == 1, labels_ts == 1))\n",
    "    false_pos = np.sum(np.logical_and(label_predict == 1, labels_ts == 0))\n",
    "    \n",
    "    precision = true_pos/(true_pos + false_pos)\n",
    "    \n",
    "    return precision\n",
    "\n",
    "def recall_score_s(Y_te,preds_te_count):\n",
    "\n",
    "    true_pos  = np.sum(np.logical_and(label_predict == 1, labels_ts == 1))\n",
    "    false_neg = np.sum(np.logical_and(label_predict == 0, labels_ts == 1))\n",
    "    \n",
    "    recall = true_pos/(true_pos + false_neg)\n",
    "    \n",
    "    return recall\n",
    "\n",
    "def f1_score_s(Y_te,preds_te_count):\n",
    "    \n",
    "    true_pos  = np.sum(np.logical_and(label_predict == 1, labels_ts == 1))\n",
    "    true_neg  = np.sum(np.logical_and(label_predict == 0, labels_ts == 0))\n",
    "    false_pos = np.sum(np.logical_and(label_predict == 1, labels_ts == 0))\n",
    "    false_neg = np.sum(np.logical_and(label_predict == 0, labels_ts == 1))\n",
    "    \n",
    "    accuracy = (true_pos + true_neg)/ len(labels_ts)\n",
    "    precision = true_pos/(true_pos + false_pos)\n",
    "    recall = true_pos/(true_pos + false_neg)\n",
    "    f1_score = (2* precision * recall) / (precision + recall)\n",
    "    \n",
    "    return f1_score\n",
    "\n",
    "label_predict = predict_class(ts_vec, w_count)\n",
    "\n",
    "print('Accuracy: %.3f' % (accuracy_score_s(labels_ts, label_predict)))\n",
    "print('Precision: %.3f' % (precision_score_s(labels_ts, label_predict)))\n",
    "print('Recall: %.3f' % (recall_score_s(labels_ts, label_predict)))\n",
    "print('F1-Score: %.3f' % (f1_score_s(labels_ts, label_predict)))"
   ]
  },
  {
   "cell_type": "code",
   "execution_count": 207,
   "metadata": {},
   "outputs": [],
   "source": [
    "def print_top_words(vocab, w, num_printed = 10, positive = True):\n",
    "            \n",
    "    if(positive):\n",
    "        w = -w\n",
    "    \n",
    "    result_positions = np.argpartition(w, num_printed)[:num_printed]\n",
    "    \n",
    "    for i in range(num_printed):\n",
    "        print(list(vocab)[result_positions[i]])"
   ]
  },
  {
   "cell_type": "code",
   "execution_count": 208,
   "metadata": {},
   "outputs": [
    {
     "name": "stdout",
     "output_type": "stream",
     "text": [
      "excellent\n",
      "best\n",
      "wonderful\n",
      "great\n",
      "perfect\n",
      "amazing\n",
      "fun\n",
      "loved\n",
      "brilliant\n",
      "love\n"
     ]
    }
   ],
   "source": [
    "print_top_words(vocab, w_count, positive = True)"
   ]
  },
  {
   "cell_type": "code",
   "execution_count": 209,
   "metadata": {},
   "outputs": [
    {
     "name": "stdout",
     "output_type": "stream",
     "text": [
      "waste\n",
      "worst\n",
      "bad\n",
      "boring\n",
      "awful\n",
      "terrible\n",
      "nothing\n",
      "poor\n",
      "stupid\n",
      "worse\n"
     ]
    }
   ],
   "source": [
    "print_top_words(vocab, w_count, positive = False)"
   ]
  },
  {
   "cell_type": "code",
   "execution_count": null,
   "metadata": {},
   "outputs": [],
   "source": [
    "w_tfidf_m, loss_tr_tfidf_m, dev_loss_tfidf_m = SGD_m(tr_vec_tfidf_multi, labels_tr_multi, \n",
    "                                             X_dev=dev_vec_tfidf_multi, \n",
    "                                             Y_dev=labels_dev_multi,\n",
    "                                             lr=0.0001, \n",
    "                                             alpha=0.001, \n",
    "                                             epochs=200)"
   ]
  },
  {
   "cell_type": "code",
   "execution_count": 210,
   "metadata": {},
   "outputs": [
    {
     "data": {
      "image/png": "[encoded data removed]",
      "text/plain": [
       "<Figure size 576x360 with 1 Axes>"
      ]
     },
     "metadata": {
      "needs_background": "light"
     },
     "output_type": "display_data"
    }
   ],
   "source": [
    "plot_training_loss(trl, devl)"
   ]
  },
  {
   "cell_type": "code",
   "execution_count": 211,
   "metadata": {},
   "outputs": [
    {
     "name": "stdout",
     "output_type": "stream",
     "text": [
      "Accuracy: 0.495\n",
      "Precision: 0.496\n",
      "Recall: 0.505\n",
      "F1-Score: 0.500\n"
     ]
    }
   ],
   "source": [
    "label_predict = predict_class(ts_vec_tfidf, w_tfidf)\n",
    "\n",
    "print('Accuracy: %.3f' % (accuracy_score(labels_ts, label_predict)))\n",
    "print('Precision: %.3f' % (precision_score(labels_ts, label_predict)))\n",
    "print('Recall: %.3f' % (recall_score(labels_ts, label_predict)))\n",
    "print('F1-Score: %.3f' % (f1_score(labels_ts, label_predict)))"
   ]
  },
  {
   "cell_type": "code",
   "execution_count": 90,
   "metadata": {},
   "outputs": [
    {
     "name": "stdout",
     "output_type": "stream",
     "text": [
      "hilarious\n",
      "excellent\n",
      "wonderful\n",
      "bad\n",
      "perfect\n",
      "superb\n",
      "brilliant\n",
      "amazing\n",
      "loved\n",
      "fantastic\n"
     ]
    }
   ],
   "source": [
    "print_top_words(vocab, w_tfidf, positive = True)"
   ]
  },
  {
   "cell_type": "code",
   "execution_count": 91,
   "metadata": {},
   "outputs": [
    {
     "name": "stdout",
     "output_type": "stream",
     "text": [
      "horrible\n",
      "terrible\n",
      "worst\n",
      "poor\n",
      "best\n",
      "poorly\n",
      "awful\n",
      "waste\n",
      "boring\n",
      "great\n"
     ]
    }
   ],
   "source": [
    "print_top_words(vocab, w_tfidf, positive = False)"
   ]
  }
 ],
 "metadata": {
  "kernelspec": {
   "display_name": "Python 3",
   "language": "python",
   "name": "python3"
  },
  "language_info": {
   "codemirror_mode": {
    "name": "ipython",
    "version": 3
   },
   "file_extension": ".py",
   "mimetype": "text/x-python",
   "name": "python",
   "nbconvert_exporter": "python",
   "pygments_lexer": "ipython3",
   "version": "3.7.3"
  }
 },
 "nbformat": 4,
 "nbformat_minor": 2
}
